{
 "cells": [
  {
   "cell_type": "code",
   "execution_count": 1,
   "metadata": {},
   "outputs": [
    {
     "name": "stderr",
     "output_type": "stream",
     "text": [
      "C:\\Users\\SAMSUNG\\AppData\\Local\\Temp\\ipykernel_8472\\2436730233.py:1: DeprecationWarning: \n",
      "Pyarrow will become a required dependency of pandas in the next major release of pandas (pandas 3.0),\n",
      "(to allow more performant data types, such as the Arrow string type, and better interoperability with other libraries)\n",
      "but was not found to be installed on your system.\n",
      "If this would cause problems for you,\n",
      "please provide us feedback at https://github.com/pandas-dev/pandas/issues/54466\n",
      "        \n",
      "  import pandas as pd\n"
     ]
    },
    {
     "data": {
      "text/html": [
       "<div>\n",
       "<style scoped>\n",
       "    .dataframe tbody tr th:only-of-type {\n",
       "        vertical-align: middle;\n",
       "    }\n",
       "\n",
       "    .dataframe tbody tr th {\n",
       "        vertical-align: top;\n",
       "    }\n",
       "\n",
       "    .dataframe thead th {\n",
       "        text-align: right;\n",
       "    }\n",
       "</style>\n",
       "<table border=\"1\" class=\"dataframe\">\n",
       "  <thead>\n",
       "    <tr style=\"text-align: right;\">\n",
       "      <th>3</th>\n",
       "      <th>KOFR</th>\n",
       "      <th>30일평균(%)</th>\n",
       "      <th>90일평균(%)</th>\n",
       "      <th>180일평균(%)</th>\n",
       "      <th>KOFR Index</th>\n",
       "    </tr>\n",
       "    <tr>\n",
       "      <th>일자</th>\n",
       "      <th></th>\n",
       "      <th></th>\n",
       "      <th></th>\n",
       "      <th></th>\n",
       "      <th></th>\n",
       "    </tr>\n",
       "  </thead>\n",
       "  <tbody>\n",
       "    <tr>\n",
       "      <th>2023.04.03</th>\n",
       "      <td>3.485</td>\n",
       "      <td>3.41353</td>\n",
       "      <td>3.37471</td>\n",
       "      <td>3.24172</td>\n",
       "      <td>1077.5611</td>\n",
       "    </tr>\n",
       "    <tr>\n",
       "      <th>2023.04.04</th>\n",
       "      <td>3.42</td>\n",
       "      <td>3.41791</td>\n",
       "      <td>3.38036</td>\n",
       "      <td>3.24627</td>\n",
       "      <td>1077.66398</td>\n",
       "    </tr>\n",
       "    <tr>\n",
       "      <th>2023.04.05</th>\n",
       "      <td>3.419</td>\n",
       "      <td>3.42015</td>\n",
       "      <td>3.38558</td>\n",
       "      <td>3.25095</td>\n",
       "      <td>1077.76496</td>\n",
       "    </tr>\n",
       "    <tr>\n",
       "      <th>2023.04.06</th>\n",
       "      <td>3.344</td>\n",
       "      <td>3.42603</td>\n",
       "      <td>3.39111</td>\n",
       "      <td>3.25527</td>\n",
       "      <td>1077.86592</td>\n",
       "    </tr>\n",
       "    <tr>\n",
       "      <th>2023.04.07</th>\n",
       "      <td>3.303</td>\n",
       "      <td>3.42496</td>\n",
       "      <td>3.39576</td>\n",
       "      <td>3.25916</td>\n",
       "      <td>1077.96467</td>\n",
       "    </tr>\n",
       "    <tr>\n",
       "      <th>...</th>\n",
       "      <td>...</td>\n",
       "      <td>...</td>\n",
       "      <td>...</td>\n",
       "      <td>...</td>\n",
       "      <td>...</td>\n",
       "    </tr>\n",
       "    <tr>\n",
       "      <th>2024.03.20</th>\n",
       "      <td>3.55</td>\n",
       "      <td>3.50739</td>\n",
       "      <td>3.56765</td>\n",
       "      <td>3.61488</td>\n",
       "      <td>1115.27971</td>\n",
       "    </tr>\n",
       "    <tr>\n",
       "      <th>2024.03.21</th>\n",
       "      <td>3.569</td>\n",
       "      <td>3.50214</td>\n",
       "      <td>3.56689</td>\n",
       "      <td>3.61424</td>\n",
       "      <td>1115.38818</td>\n",
       "    </tr>\n",
       "    <tr>\n",
       "      <th>2024.03.22</th>\n",
       "      <td>3.491</td>\n",
       "      <td>3.49873</td>\n",
       "      <td>3.56622</td>\n",
       "      <td>3.61372</td>\n",
       "      <td>1115.49724</td>\n",
       "    </tr>\n",
       "    <tr>\n",
       "      <th>2024.03.25</th>\n",
       "      <td>3.409</td>\n",
       "      <td>3.47633</td>\n",
       "      <td>3.56159</td>\n",
       "      <td>3.61099</td>\n",
       "      <td>1115.81731</td>\n",
       "    </tr>\n",
       "    <tr>\n",
       "      <th>2024.03.26</th>\n",
       "      <td>NaN</td>\n",
       "      <td>3.46381</td>\n",
       "      <td>3.55934</td>\n",
       "      <td>3.60754</td>\n",
       "      <td>1115.92152</td>\n",
       "    </tr>\n",
       "  </tbody>\n",
       "</table>\n",
       "<p>242 rows × 5 columns</p>\n",
       "</div>"
      ],
      "text/plain": [
       "3            KOFR 30일평균(%) 90일평균(%) 180일평균(%)  KOFR Index\n",
       "일자                                                       \n",
       "2023.04.03  3.485  3.41353  3.37471   3.24172   1077.5611\n",
       "2023.04.04   3.42  3.41791  3.38036   3.24627  1077.66398\n",
       "2023.04.05  3.419  3.42015  3.38558   3.25095  1077.76496\n",
       "2023.04.06  3.344  3.42603  3.39111   3.25527  1077.86592\n",
       "2023.04.07  3.303  3.42496  3.39576   3.25916  1077.96467\n",
       "...           ...      ...      ...       ...         ...\n",
       "2024.03.20   3.55  3.50739  3.56765   3.61488  1115.27971\n",
       "2024.03.21  3.569  3.50214  3.56689   3.61424  1115.38818\n",
       "2024.03.22  3.491  3.49873  3.56622   3.61372  1115.49724\n",
       "2024.03.25  3.409  3.47633  3.56159   3.61099  1115.81731\n",
       "2024.03.26    NaN  3.46381  3.55934   3.60754  1115.92152\n",
       "\n",
       "[242 rows x 5 columns]"
      ]
     },
     "execution_count": 1,
     "metadata": {},
     "output_type": "execute_result"
    }
   ],
   "source": [
    "import pandas as pd\n",
    "rf = pd.read_excel('C:\\\\Users\\\\SAMSUNG\\\\Documents\\\\vscode\\\\2024\\\\ML\\\\해커톤\\\\CSV\\\\KOFR.xlsx')\n",
    "rf.drop([0,1,2],inplace=True)\n",
    "rf.columns = rf.iloc[0]\n",
    "rf.drop([3],inplace=True)\n",
    "rf.set_index('일자', inplace = True)\n",
    "rf_sorted = rf.sort_values(by='일자', ascending=True)\n",
    "rf_sorted"
   ]
  },
  {
   "cell_type": "code",
   "execution_count": 2,
   "metadata": {},
   "outputs": [
    {
     "name": "stderr",
     "output_type": "stream",
     "text": [
      "C:\\Users\\SAMSUNG\\AppData\\Local\\Temp\\ipykernel_8472\\1031276761.py:1: FutureWarning: The default fill_method='pad' in Series.pct_change is deprecated and will be removed in a future version. Either fill in any non-leading NA values prior to calling pct_change or specify 'fill_method=None' to not fill NA values.\n",
      "  rf_sorted['rtn'] = rf_sorted['KOFR'].pct_change() * 100\n",
      "C:\\Users\\SAMSUNG\\AppData\\Local\\Temp\\ipykernel_8472\\1031276761.py:1: FutureWarning: Downcasting object dtype arrays on .fillna, .ffill, .bfill is deprecated and will change in a future version. Call result.infer_objects(copy=False) instead. To opt-in to the future behavior, set `pd.set_option('future.no_silent_downcasting', True)`\n",
      "  rf_sorted['rtn'] = rf_sorted['KOFR'].pct_change() * 100\n"
     ]
    }
   ],
   "source": [
    "rf_sorted['rtn'] = rf_sorted['KOFR'].pct_change() * 100\n",
    "rf_sorted.dropna(inplace=True)"
   ]
  },
  {
   "cell_type": "code",
   "execution_count": 4,
   "metadata": {},
   "outputs": [
    {
     "name": "stdout",
     "output_type": "stream",
     "text": [
      "Index(['KOFR', '30일평균(%)', '90일평균(%)', '180일평균(%)', 'KOFR Index', 'rtn'], dtype='object', name=3)\n"
     ]
    }
   ],
   "source": [
    "print(rf_sorted.columns)"
   ]
  },
  {
   "cell_type": "code",
   "execution_count": 5,
   "metadata": {},
   "outputs": [
    {
     "name": "stdout",
     "output_type": "stream",
     "text": [
      "일자\n",
      "2023.04.04   -1.865136\n",
      "2023.04.05   -0.029240\n",
      "2023.04.06   -2.193624\n",
      "2023.04.07   -1.226077\n",
      "2023.04.10    0.272480\n",
      "                ...   \n",
      "2024.03.19    2.658303\n",
      "2024.03.20    3.287751\n",
      "2024.03.21    0.535211\n",
      "2024.03.22   -2.185486\n",
      "2024.03.25   -2.348897\n",
      "Name: rtn, Length: 240, dtype: float64\n"
     ]
    }
   ],
   "source": [
    "rtn_column = rf_sorted['rtn']\n",
    "print(rtn_column)\n"
   ]
  },
  {
   "cell_type": "code",
   "execution_count": 6,
   "metadata": {},
   "outputs": [
    {
     "name": "stdout",
     "output_type": "stream",
     "text": [
      "3                rtn\n",
      "일자                  \n",
      "2023.04.04 -1.865136\n",
      "2023.04.05 -0.029240\n",
      "2023.04.06 -2.193624\n",
      "2023.04.07 -1.226077\n",
      "2023.04.10  0.272480\n",
      "...              ...\n",
      "2024.03.19  2.658303\n",
      "2024.03.20  3.287751\n",
      "2024.03.21  0.535211\n",
      "2024.03.22 -2.185486\n",
      "2024.03.25 -2.348897\n",
      "\n",
      "[240 rows x 1 columns]\n"
     ]
    }
   ],
   "source": [
    "rtn_column = rf_sorted[['rtn']]\n",
    "print(rtn_column)\n"
   ]
  },
  {
   "cell_type": "code",
   "execution_count": 7,
   "metadata": {},
   "outputs": [
    {
     "name": "stderr",
     "output_type": "stream",
     "text": [
      "[*********************100%%**********************]  1 of 1 completed\n"
     ]
    }
   ],
   "source": [
    "import yfinance as yf\n",
    "import pandas as pd\n",
    "\n",
    "# 시작 및 종료 날짜 설정\n",
    "start_date = '2023-04-01'\n",
    "end_date = '2024-03-31'\n",
    "\n",
    "# 코스피 지수에 해당하는 코드는 ^KS11\n",
    "kospi_data = yf.download('^KS11', start=start_date, end=end_date)\n",
    "\n",
    "# 일별 수익률 계산\n",
    "kospi_data['Daily_Return'] = kospi_data['Adj Close'].pct_change() * 100\n",
    "\n",
    "# NaN 값을 가진 행 제거\n",
    "kospi_data.dropna(inplace=True)"
   ]
  },
  {
   "cell_type": "code",
   "execution_count": 14,
   "metadata": {},
   "outputs": [
    {
     "data": {
      "text/plain": [
       "DatetimeIndex(['2023-04-04', '2023-04-05', '2023-04-06', '2023-04-07',\n",
       "               '2023-04-10', '2023-04-11', '2023-04-12', '2023-04-13',\n",
       "               '2023-04-14', '2023-04-17',\n",
       "               ...\n",
       "               '2024-03-13', '2024-03-14', '2024-03-15', '2024-03-18',\n",
       "               '2024-03-19', '2024-03-20', '2024-03-21', '2024-03-22',\n",
       "               '2024-03-25', '2024-03-26'],\n",
       "              dtype='datetime64[ns]', name='Date', length=240, freq=None)"
      ]
     },
     "execution_count": 14,
     "metadata": {},
     "output_type": "execute_result"
    }
   ],
   "source": [
    "kospi_data.index"
   ]
  },
  {
   "cell_type": "code",
   "execution_count": 9,
   "metadata": {},
   "outputs": [],
   "source": [
    "kospi_data['Excess_Return'] = kospi_data['Daily_Return'] - rf_sorted['rtn']"
   ]
  },
  {
   "cell_type": "code",
   "execution_count": 10,
   "metadata": {},
   "outputs": [
    {
     "data": {
      "text/plain": [
       "Date\n",
       "2023-04-04   NaN\n",
       "2023-04-05   NaN\n",
       "2023-04-06   NaN\n",
       "2023-04-07   NaN\n",
       "2023-04-10   NaN\n",
       "              ..\n",
       "2024-03-20   NaN\n",
       "2024-03-21   NaN\n",
       "2024-03-22   NaN\n",
       "2024-03-25   NaN\n",
       "2024-03-26   NaN\n",
       "Name: Excess_Return, Length: 240, dtype: float64"
      ]
     },
     "execution_count": 10,
     "metadata": {},
     "output_type": "execute_result"
    }
   ],
   "source": [
    "kospi_data['Excess_Return']"
   ]
  },
  {
   "cell_type": "code",
   "execution_count": null,
   "metadata": {},
   "outputs": [],
   "source": []
  }
 ],
 "metadata": {
  "kernelspec": {
   "display_name": "Python 3",
   "language": "python",
   "name": "python3"
  },
  "language_info": {
   "codemirror_mode": {
    "name": "ipython",
    "version": 3
   },
   "file_extension": ".py",
   "mimetype": "text/x-python",
   "name": "python",
   "nbconvert_exporter": "python",
   "pygments_lexer": "ipython3",
   "version": "3.12.2"
  }
 },
 "nbformat": 4,
 "nbformat_minor": 2
}
